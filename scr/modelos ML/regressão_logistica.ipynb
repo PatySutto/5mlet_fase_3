{
 "cells": [
  {
   "cell_type": "markdown",
   "id": "10a6df7d",
   "metadata": {},
   "source": [
    "# Regressão Logística"
   ]
  },
  {
   "cell_type": "code",
   "execution_count": null,
   "id": "24b1ecb3",
   "metadata": {},
   "outputs": [],
   "source": [
    "import pandas as pd\n",
    "import numpy as np\n",
    "import matplotlib.pyplot as plt\n",
    "import seaborn as sns\n",
    "from sklearn.model_selection import train_test_split\n",
    "from sklearn.linear_model import LogisticRegression\n",
    "from sklearn.metrics import accuracy_score, precision_score, recall_score, f1_score\n",
    "from sklearn.metrics import confusion_matrix\n",
    "from sklearn.model_selection import GridSearchCV\n",
    "\n",
    "import joblib\n",
    "\n",
    "\n"
   ]
  },
  {
   "cell_type": "code",
   "execution_count": null,
   "id": "1f7d8bd6",
   "metadata": {},
   "outputs": [],
   "source": [
    "df = pd.read_csv('../../dataset/heart-failure-tratado.csv')\n",
    "df.head(3)"
   ]
  },
  {
   "cell_type": "code",
   "execution_count": null,
   "id": "a6a56749",
   "metadata": {},
   "outputs": [],
   "source": [
    "# Features\n",
    "x = df.drop(columns=['HeartDisease'])\n",
    "\n",
    "# Target\n",
    "y = df['HeartDisease']"
   ]
  },
  {
   "cell_type": "code",
   "execution_count": null,
   "id": "61c6b5fe",
   "metadata": {},
   "outputs": [],
   "source": [
    "# Split do dataset em conjuntos de treinamento e teste.\n",
    "\n",
    "# # 70% treino, 30% teste\n",
    "# x_train, x_test, y_train, y_test = train_test_split(x, y, test_size=0.3, random_state=45)\n",
    "\n",
    "# 90% treino, 10% teste\n",
    "x_train, x_test, y_train, y_test = train_test_split(x, y, test_size=0.1, random_state=45)\n",
    "\n",
    "\n"
   ]
  },
  {
   "cell_type": "code",
   "execution_count": null,
   "id": "e20d4489",
   "metadata": {},
   "outputs": [],
   "source": [
    "modelo = LogisticRegression()\n",
    "modelo.fit(x_train, y_train)\n",
    "\n",
    "# joblib.dump(modelo, 'modelo_regressao_logistica.pkl')"
   ]
  },
  {
   "cell_type": "code",
   "execution_count": null,
   "id": "4e277974",
   "metadata": {},
   "outputs": [],
   "source": [
    "# Fazendo previsões sobre o conjunto de teste\n",
    "y_pred = modelo.predict(x_test)"
   ]
  },
  {
   "cell_type": "code",
   "execution_count": null,
   "id": "0597e249",
   "metadata": {},
   "outputs": [],
   "source": [
    "# Calculando métricas de desempenho (acurácia, precisão, revocação e F1-Score)\n",
    "\n",
    "accuracy = accuracy_score(y_test, y_pred)\n",
    "precision = precision_score(y_test, y_pred, average='micro')\n",
    "recall = recall_score(y_test, y_pred, average='micro')\n",
    "f1 = f1_score(y_test, y_pred, average='micro')\n",
    "\n",
    "print(\"Acurácia:\", accuracy)\n",
    "print(\"Precisão:\", precision)\n",
    "print(\"Recall:\", recall)\n",
    "print(\"F1-Score:\", f1)"
   ]
  },
  {
   "cell_type": "code",
   "execution_count": null,
   "id": "e79c6b0b",
   "metadata": {},
   "outputs": [],
   "source": [
    "## Criar arquivo do modelo treinado\n",
    "# joblib.dump(modelo, 'modelo_regressao_logistica.pkl')"
   ]
  },
  {
   "cell_type": "code",
   "execution_count": null,
   "id": "0b32be97",
   "metadata": {},
   "outputs": [],
   "source": [
    "cm = confusion_matrix(y_test, y_pred)\n",
    "plt.figure(figsize=(6, 5))\n",
    "sns.heatmap(cm, annot=True, fmt=\"d\", cmap=\"Blues\", cbar=False,\n",
    "            xticklabels=['Positivo', 'Negativo'],\n",
    "            yticklabels=['Positivo', 'Negativo'],\n",
    "            linewidths=1, linecolor='gray', square=True)\n",
    "\n",
    "plt.title(\"Matriz de Confusão\", fontsize=14, pad=15)\n",
    "plt.xlabel(\"Classe Real\", fontsize=12)\n",
    "plt.ylabel(\"Classe Prevista\", fontsize=12)\n",
    "plt.tight_layout()\n",
    "plt.show()"
   ]
  },
  {
   "cell_type": "markdown",
   "id": "e20cadc2",
   "metadata": {},
   "source": [
    "# Tuning dos hiperparâmetros"
   ]
  },
  {
   "cell_type": "code",
   "execution_count": null,
   "id": "29a2a795",
   "metadata": {},
   "outputs": [],
   "source": [
    "# 90% treino, 10% teste\n",
    "x_train, x_test, y_train, y_test = train_test_split(x, y, test_size=0.1, random_state=45)"
   ]
  },
  {
   "cell_type": "code",
   "execution_count": null,
   "id": "cb0efa59",
   "metadata": {},
   "outputs": [],
   "source": [
    "modelo = LogisticRegression()\n",
    "\n",
    "# Encontrar os melhores parametros para o modelo (Tunning de hiperparâmetros)\n",
    "parametros = [\n",
    "    # Dicionário 1: Para o solver 'liblinear' que suporta l1 e l2\n",
    "    {\n",
    "        'solver': ['liblinear'],\n",
    "        'penalty': ['l1', 'l2'],\n",
    "        'C': [0.01, 0.1, 1, 10]\n",
    "    },\n",
    "    \n",
    "    # Dicionário 2: Para solvers que suportam l2\n",
    "    {\n",
    "        'solver': ['lbfgs', 'newton-cg', 'sag'],\n",
    "        'penalty': ['l2', None], # <-- CORRIGIDO AQUI\n",
    "        'C': [0.01, 0.1, 1, 10]\n",
    "    },\n",
    "    \n",
    "    # Dicionário 3: Para o solver 'saga'\n",
    "    {\n",
    "        'solver': ['saga'],\n",
    "        'penalty': ['l1', 'l2', 'elasticnet', None],\n",
    "        'C': [0.01, 0.1, 1, 10],\n",
    "        'l1_ratio': np.linspace(0, 1, 10)\n",
    "    }\n",
    "]\n",
    "\n",
    "\n",
    "clf = GridSearchCV(estimator=modelo,\n",
    "    param_grid=parametros,\n",
    "    cv=5,\n",
    "    scoring='accuracy',\n",
    "    n_jobs=-1,\n",
    "    verbose=2)\n",
    "\n",
    "clf.fit(x_train, y_train)"
   ]
  },
  {
   "cell_type": "code",
   "execution_count": null,
   "id": "037275c9",
   "metadata": {},
   "outputs": [],
   "source": [
    "# Exibindo os melhores parâmetros encontrados\n",
    "print(f\"Melhores parâmetros encontrados: {clf.best_params_}\")\n",
    "best_model = clf.best_estimator_\n",
    "best_model"
   ]
  },
  {
   "cell_type": "code",
   "execution_count": null,
   "id": "570f7764",
   "metadata": {},
   "outputs": [],
   "source": [
    "# Fazendo previsões sobre o conjunto de teste com o melhor modelo\n",
    "y_pred = best_model.predict(x_test)"
   ]
  },
  {
   "cell_type": "code",
   "execution_count": null,
   "id": "bd0ea3ff",
   "metadata": {},
   "outputs": [],
   "source": [
    "# Calculando métricas de desempenho (acurácia, precisão, revocação e F1-Score)\n",
    "\n",
    "accuracy = accuracy_score(y_test, y_pred)\n",
    "precision = precision_score(y_test, y_pred, average='micro')\n",
    "recall = recall_score(y_test, y_pred, average='micro')\n",
    "f1 = f1_score(y_test, y_pred, average='micro')\n",
    "\n",
    "print(\"Acurácia:\", accuracy)\n",
    "print(\"Precisão:\", precision)\n",
    "print(\"Recall:\", recall)\n",
    "print(\"F1-Score:\", f1)"
   ]
  },
  {
   "cell_type": "code",
   "execution_count": null,
   "id": "e9125a77",
   "metadata": {},
   "outputs": [],
   "source": [
    "cm = confusion_matrix(y_test, y_pred)\n",
    "plt.figure(figsize=(6, 5))\n",
    "sns.heatmap(cm, annot=True, fmt=\"d\", cmap=\"Blues\", cbar=False,\n",
    "            xticklabels=['Positivo', 'Negativo'],\n",
    "            yticklabels=['Positivo', 'Negativo'],\n",
    "            linewidths=1, linecolor='gray', square=True)\n",
    "\n",
    "plt.title(\"Matriz de Confusão\", fontsize=14, pad=15)\n",
    "plt.xlabel(\"Classe Real\", fontsize=12)\n",
    "plt.ylabel(\"Classe Prevista\", fontsize=12)\n",
    "plt.tight_layout()\n",
    "plt.show()"
   ]
  }
 ],
 "metadata": {
  "kernelspec": {
   "display_name": "venv",
   "language": "python",
   "name": "python3"
  },
  "language_info": {
   "codemirror_mode": {
    "name": "ipython",
    "version": 3
   },
   "file_extension": ".py",
   "mimetype": "text/x-python",
   "name": "python",
   "nbconvert_exporter": "python",
   "pygments_lexer": "ipython3",
   "version": "3.12.2"
  }
 },
 "nbformat": 4,
 "nbformat_minor": 5
}
