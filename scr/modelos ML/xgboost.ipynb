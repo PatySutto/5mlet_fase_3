{
 "cells": [
  {
   "cell_type": "markdown",
   "id": "7b0ead84",
   "metadata": {},
   "source": [
    "# XGBoost"
   ]
  },
  {
   "cell_type": "code",
   "execution_count": 8,
   "id": "044feb8e",
   "metadata": {},
   "outputs": [],
   "source": [
    "import pandas as pd\n",
    "import numpy as np\n",
    "import seaborn as sns\n",
    "import matplotlib.pyplot as plt\n",
    "from sklearn.model_selection import train_test_split, GridSearchCV\n",
    "from sklearn.metrics import accuracy_score, precision_score, recall_score, f1_score\n",
    "from xgboost import XGBClassifier\n",
    "from sklearn.metrics import confusion_matrix\n"
   ]
  },
  {
   "cell_type": "code",
   "execution_count": 9,
   "id": "c5577e86",
   "metadata": {},
   "outputs": [
    {
     "data": {
      "text/html": [
       "<div>\n",
       "<style scoped>\n",
       "    .dataframe tbody tr th:only-of-type {\n",
       "        vertical-align: middle;\n",
       "    }\n",
       "\n",
       "    .dataframe tbody tr th {\n",
       "        vertical-align: top;\n",
       "    }\n",
       "\n",
       "    .dataframe thead th {\n",
       "        text-align: right;\n",
       "    }\n",
       "</style>\n",
       "<table border=\"1\" class=\"dataframe\">\n",
       "  <thead>\n",
       "    <tr style=\"text-align: right;\">\n",
       "      <th></th>\n",
       "      <th>ExerciseAngina</th>\n",
       "      <th>Oldpeak</th>\n",
       "      <th>ST_Slope</th>\n",
       "      <th>MaxHR</th>\n",
       "      <th>ChestPainType</th>\n",
       "      <th>HeartDisease</th>\n",
       "    </tr>\n",
       "  </thead>\n",
       "  <tbody>\n",
       "    <tr>\n",
       "      <th>0</th>\n",
       "      <td>0</td>\n",
       "      <td>0.0</td>\n",
       "      <td>2</td>\n",
       "      <td>172</td>\n",
       "      <td>1</td>\n",
       "      <td>0</td>\n",
       "    </tr>\n",
       "    <tr>\n",
       "      <th>1</th>\n",
       "      <td>0</td>\n",
       "      <td>1.0</td>\n",
       "      <td>1</td>\n",
       "      <td>156</td>\n",
       "      <td>2</td>\n",
       "      <td>1</td>\n",
       "    </tr>\n",
       "    <tr>\n",
       "      <th>2</th>\n",
       "      <td>0</td>\n",
       "      <td>0.0</td>\n",
       "      <td>2</td>\n",
       "      <td>98</td>\n",
       "      <td>1</td>\n",
       "      <td>0</td>\n",
       "    </tr>\n",
       "  </tbody>\n",
       "</table>\n",
       "</div>"
      ],
      "text/plain": [
       "   ExerciseAngina  Oldpeak  ST_Slope  MaxHR  ChestPainType  HeartDisease\n",
       "0               0      0.0         2    172              1             0\n",
       "1               0      1.0         1    156              2             1\n",
       "2               0      0.0         2     98              1             0"
      ]
     },
     "execution_count": 9,
     "metadata": {},
     "output_type": "execute_result"
    }
   ],
   "source": [
    "df = pd.read_csv('../../dataset/heart-failure-tratado.csv')\n",
    "df.head(3)"
   ]
  },
  {
   "cell_type": "code",
   "execution_count": 10,
   "id": "f1bb5308",
   "metadata": {},
   "outputs": [],
   "source": [
    "# Features\n",
    "x = df.drop(columns=['HeartDisease'])\n",
    "\n",
    "# Target\n",
    "y = df['HeartDisease']"
   ]
  },
  {
   "cell_type": "code",
   "execution_count": 11,
   "id": "fb334c91",
   "metadata": {},
   "outputs": [],
   "source": [
    "# Split do dataset em conjuntos de treinamento e teste.\n",
    "\n",
    "# # 70% treino, 30% teste\n",
    "# x_train, x_test, y_train, y_test = train_test_split(x, y, test_size=0.3, random_state=45)\n",
    "\n",
    "# 90% treino, 10% teste\n",
    "x_train, x_test, y_train, y_test = train_test_split(x, y, test_size=0.1, random_state=45)\n"
   ]
  },
  {
   "cell_type": "code",
   "execution_count": 12,
   "id": "2476aaa3",
   "metadata": {},
   "outputs": [
    {
     "name": "stdout",
     "output_type": "stream",
     "text": [
      "Accuracy: 0.8260869565217391\n",
      "Precision: 0.7954545454545454\n",
      "Recall: 0.8333333333333334\n",
      "F1-score: 0.813953488372093\n"
     ]
    }
   ],
   "source": [
    "modelo = XGBClassifier()\n",
    "modelo.fit(x_train, y_train)\n",
    "\n",
    "y_pred = modelo.predict(x_test)\n",
    "\n",
    "# Se y_pred veio de 'binary:logistic' ou valores contínuos\n",
    "y_pred_class = [1 if p >= 0.5 else 0 for p in y_pred]\n",
    "\n",
    "accuracy = accuracy_score(y_test, y_pred_class)\n",
    "precision = precision_score(y_test, y_pred_class)\n",
    "recall = recall_score(y_test, y_pred_class)\n",
    "f1 = f1_score(y_test, y_pred_class)\n",
    "\n",
    "print(f'Accuracy: {accuracy}')\n",
    "print(f'Precision: {precision}')\n",
    "print(f'Recall: {recall}')\n",
    "print(f'F1-score: {f1}')"
   ]
  },
  {
   "cell_type": "code",
   "execution_count": 13,
   "id": "61bc0b62",
   "metadata": {},
   "outputs": [
    {
     "data": {
      "image/png": "[encoded data removed]",
      "text/plain": [
       "<Figure size 600x500 with 1 Axes>"
      ]
     },
     "metadata": {},
     "output_type": "display_data"
    }
   ],
   "source": [
    "cm = confusion_matrix(y_test, y_pred)\n",
    "plt.figure(figsize=(6, 5))\n",
    "sns.heatmap(cm, annot=True, fmt=\"d\", cmap=\"Blues\", cbar=False,\n",
    "            xticklabels=['Positivo', 'Negativo'],\n",
    "            yticklabels=['Positivo', 'Negativo'],\n",
    "            linewidths=1, linecolor='gray', square=True)\n",
    "\n",
    "plt.title(\"Matriz de Confusão\", fontsize=14, pad=15)\n",
    "plt.xlabel(\"Classe Real\", fontsize=12)\n",
    "plt.ylabel(\"Classe Prevista\", fontsize=12)\n",
    "plt.tight_layout()\n",
    "plt.show()"
   ]
  },
  {
   "cell_type": "markdown",
   "id": "fec7389c",
   "metadata": {},
   "source": [
    "# Tuning dos hiperparâmetros"
   ]
  },
  {
   "cell_type": "code",
   "execution_count": 14,
   "id": "a3f903a1",
   "metadata": {},
   "outputs": [
    {
     "name": "stdout",
     "output_type": "stream",
     "text": [
      "Melhores parâmetros: {'learning_rate': 0.1, 'max_depth': 3, 'n_estimators': 100, 'subsample': 1.0}\n",
      "Accuracy: 0.8260869565217391\n",
      "Precision: 0.7954545454545454\n",
      "Recall: 0.8333333333333334\n",
      "F1-score: 0.813953488372093\n"
     ]
    }
   ],
   "source": [
    "# Modelo base\n",
    "xgb = XGBClassifier()\n",
    "\n",
    "# Grade de parâmetros\n",
    "param_grid = {\n",
    "    'n_estimators': [100, 200],\n",
    "    'max_depth': [3, 5, 7],\n",
    "    'learning_rate': [0.01, 0.1, 0.2],\n",
    "    'subsample': [0.8, 1.0]\n",
    "}\n",
    "\n",
    "# param_grid = {\n",
    "#     'n_estimators': [100, 200, 300],\n",
    "#     'max_depth': [3, 5, 7, 9],\n",
    "#     'learning_rate': [0.01, 0.05, 0.1],\n",
    "#     'subsample': [0.7, 0.8, 1.0],\n",
    "#     'colsample_bytree': [0.7, 0.8, 1.0],      # porcentagem de colunas usadas por árvore\n",
    "#     'gamma': [0, 0.1, 0.3, 0.5],              # penaliza divisões desnecessárias (evita overfitting)\n",
    "#     'reg_alpha': [0, 0.1, 0.5, 1],            # regularização L1 (Lasso)\n",
    "#     'reg_lambda': [1, 1.5, 2, 3],             # regularização L2 (Ridge)\n",
    "#     'scale_pos_weight': [1, 2, 5]             # útil se há desbalanceamento de classes\n",
    "# }\n",
    "\n",
    "# Busca com validação cruzada\n",
    "grid_search = GridSearchCV(estimator=xgb, param_grid=param_grid,\n",
    "                           cv=10, scoring='accuracy'\n",
    "                           )\n",
    "\n",
    "grid_search.fit(x_train, y_train)\n",
    "\n",
    "# Melhor combinação\n",
    "print(\"Melhores parâmetros:\", grid_search.best_params_)\n",
    "\n",
    "# Se y_pred veio de 'binary:logistic' ou valores contínuos\n",
    "y_pred_class = [1 if p >= 0.5 else 0 for p in y_pred]\n",
    "\n",
    "accuracy = accuracy_score(y_test, y_pred_class)\n",
    "precision = precision_score(y_test, y_pred_class)\n",
    "recall = recall_score(y_test, y_pred_class)\n",
    "f1 = f1_score(y_test, y_pred_class)\n",
    "\n",
    "print(f'Accuracy: {accuracy}')\n",
    "print(f'Precision: {precision}')\n",
    "print(f'Recall: {recall}')\n",
    "print(f'F1-score: {f1}')"
   ]
  },
  {
   "cell_type": "code",
   "execution_count": null,
   "id": "c4b98cf0",
   "metadata": {},
   "outputs": [],
   "source": []
  }
 ],
 "metadata": {
  "kernelspec": {
   "display_name": "venv",
   "language": "python",
   "name": "python3"
  },
  "language_info": {
   "codemirror_mode": {
    "name": "ipython",
    "version": 3
   },
   "file_extension": ".py",
   "mimetype": "text/x-python",
   "name": "python",
   "nbconvert_exporter": "python",
   "pygments_lexer": "ipython3",
   "version": "3.12.2"
  }
 },
 "nbformat": 4,
 "nbformat_minor": 5
}
